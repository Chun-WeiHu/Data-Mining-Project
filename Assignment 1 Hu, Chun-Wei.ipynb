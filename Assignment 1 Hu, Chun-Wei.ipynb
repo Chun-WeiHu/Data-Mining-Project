{
 "cells": [
  {
   "cell_type": "code",
   "execution_count": 1,
   "metadata": {
    "id": "4oT-PWavoO1l"
   },
   "outputs": [],
   "source": [
    "#!/usr/bin/env python\n",
    "import numpy as np\n",
    "import pandas as pd\n",
    "\n",
    "cgm=pd.read_csv('CGMData.csv',low_memory=False,usecols=['Date','Time','Sensor Glucose (mg/dL)'])\n",
    "\n",
    "insulin=pd.read_csv('InsulinData.csv',low_memory=False)"
   ]
  },
  {
   "cell_type": "code",
   "execution_count": 2,
   "metadata": {},
   "outputs": [],
   "source": [
    "cgm['dateTime']=pd.to_datetime(cgm['Date'] + ' ' + cgm['Time'])\n",
    "\n",
    "remove=cgm[cgm['Sensor Glucose (mg/dL)'].isna()]['Date'].unique()\n",
    "\n",
    "cgm=cgm.set_index('Date').drop(index=remove).reset_index()"
   ]
  },
  {
   "cell_type": "code",
   "execution_count": 3,
   "metadata": {},
   "outputs": [],
   "source": [
    "cgmTest=cgm.set_index(pd.DatetimeIndex(cgm['dateTime']))\n",
    "#set test Data"
   ]
  },
  {
   "cell_type": "code",
   "execution_count": 4,
   "metadata": {},
   "outputs": [],
   "source": [
    "insulin['dateTime']=pd.to_datetime(insulin['Date'] + ' ' + insulin['Time'])\n",
    "\n",
    "autoStart=insulin.sort_values(by='dateTime',ascending=True).loc[insulin['Alarm']=='AUTO MODE ACTIVE PLGM OFF'].iloc[0]['dateTime']\n",
    "#check when does the auto mode starts\n",
    "\n",
    "auto=cgm.sort_values(by='dateTime',ascending=True).loc[cgm['dateTime']>=autoStart]\n",
    "\n",
    "manual=cgm.sort_values(by='dateTime',ascending=True).loc[cgm['dateTime']<autoStart]"
   ]
  },
  {
   "cell_type": "code",
   "execution_count": 5,
   "metadata": {},
   "outputs": [],
   "source": [
    "manualIndex=manual.set_index('dateTime')\n",
    "\n",
    "listM=manualIndex.groupby('Date')['Sensor Glucose (mg/dL)'].count().where(lambda x:x>0.8*288).dropna().index.tolist()\n",
    "\n",
    "manualIndex=manualIndex.loc[manualIndex['Date'].isin(listM)]\n",
    "#check if the data in a day have enough amount\n",
    "\n",
    "wholedayM = manualIndex.between_time('0:00:00','23:59:59')\n",
    "\n",
    "daytimeM = manualIndex.between_time('6:00:00','23:59:59')\n",
    "\n",
    "overnightM = manualIndex.between_time('0:00:00','05:59:59')\n",
    "#spilt the data into each type"
   ]
  },
  {
   "cell_type": "code",
   "execution_count": 6,
   "metadata": {},
   "outputs": [],
   "source": [
    "Hyperwholeday_manual=wholedayM.loc[wholedayM['Sensor Glucose (mg/dL)']>180].groupby('Date')['Sensor Glucose (mg/dL)']\n",
    "Hyperwholeday_manual=Hyperwholeday_manual.count()/2.88\n",
    "\n",
    "Hyperdaytime_manual=daytimeM.loc[daytimeM['Sensor Glucose (mg/dL)']>180].groupby('Date')['Sensor Glucose (mg/dL)']\n",
    "Hyperdaytime_manual=Hyperdaytime_manual.count()/2.88\n",
    "\n",
    "Hyperovernight_manual=overnightM.loc[overnightM['Sensor Glucose (mg/dL)']>180].groupby('Date')['Sensor Glucose (mg/dL)']\n",
    "Hyperovernight_manual=Hyperovernight_manual.count()/2.88\n",
    "# Hyperglycemia in each type of time"
   ]
  },
  {
   "cell_type": "code",
   "execution_count": 7,
   "metadata": {},
   "outputs": [],
   "source": [
    "HyperCwholeday_manual=wholedayM.loc[wholedayM['Sensor Glucose (mg/dL)']>250].groupby('Date')['Sensor Glucose (mg/dL)']\n",
    "HyperCwholeday_manual=HyperCwholeday_manual.count()/2.88\n",
    "\n",
    "HyperCdaytime_manual=daytimeM.loc[daytimeM['Sensor Glucose (mg/dL)']>250].groupby('Date')['Sensor Glucose (mg/dL)']\n",
    "HyperCdaytime_manual=HyperCdaytime_manual.count()/2.88\n",
    "\n",
    "HyperCovernight_manual=overnightM.loc[overnightM['Sensor Glucose (mg/dL)']>250].groupby('Date')['Sensor Glucose (mg/dL)']\n",
    "HyperCovernight_manual=HyperCovernight_manual.count()/2.88\n",
    "# Hyperglycemia critical in each type of time"
   ]
  },
  {
   "cell_type": "code",
   "execution_count": 8,
   "metadata": {},
   "outputs": [],
   "source": [
    "rangewholeday_manual=wholedayM.loc[(wholedayM['Sensor Glucose (mg/dL)']>=70) & (wholedayM['Sensor Glucose (mg/dL)']<=180)].groupby('Date')['Sensor Glucose (mg/dL)']\n",
    "rangewholeday_manual=rangewholeday_manual.count()/2.88\n",
    "\n",
    "rangedaytime_manual=daytimeM.loc[(daytimeM['Sensor Glucose (mg/dL)']>=70) & (daytimeM['Sensor Glucose (mg/dL)']<=180)].groupby('Date')['Sensor Glucose (mg/dL)']\n",
    "rangedaytime_manual=rangedaytime_manual.count()/2.88\n",
    "\n",
    "rangeovernight_manual=overnightM.loc[(overnightM['Sensor Glucose (mg/dL)']>=70) & (overnightM['Sensor Glucose (mg/dL)']<=180)].groupby('Date')['Sensor Glucose (mg/dL)']\n",
    "rangeovernight_manual=rangeovernight_manual.count()/2.88\n",
    "# range in each type of time"
   ]
  },
  {
   "cell_type": "code",
   "execution_count": 9,
   "metadata": {},
   "outputs": [],
   "source": [
    "range2wholeday_manual=wholedayM.loc[(wholedayM['Sensor Glucose (mg/dL)']>=70) & (wholedayM['Sensor Glucose (mg/dL)']<=150)].groupby('Date')['Sensor Glucose (mg/dL)']\n",
    "range2wholeday_manual=range2wholeday_manual.count()/2.88\n",
    "\n",
    "range2daytime_manual=daytimeM.loc[(daytimeM['Sensor Glucose (mg/dL)']>=70) & (daytimeM['Sensor Glucose (mg/dL)']<=150)].groupby('Date')['Sensor Glucose (mg/dL)']\n",
    "range2daytime_manual=range2daytime_manual.count()/2.88\n",
    "\n",
    "range2overnight_manual=overnightM.loc[(overnightM['Sensor Glucose (mg/dL)']>=70) & (overnightM['Sensor Glucose (mg/dL)']<=150)].groupby('Date')['Sensor Glucose (mg/dL)']\n",
    "range2overnight_manual=range2overnight_manual.count()/2.88\n",
    "# range secondary in each type of time"
   ]
  },
  {
   "cell_type": "code",
   "execution_count": 10,
   "metadata": {},
   "outputs": [],
   "source": [
    "Hyper1wholeday_manual=wholedayM.loc[wholedayM['Sensor Glucose (mg/dL)']<70].groupby('Date')['Sensor Glucose (mg/dL)']\n",
    "Hyper1wholeday_manual=Hyper1wholeday_manual.count()/2.88\n",
    "\n",
    "Hyper1daytime_manual=daytimeM.loc[daytimeM['Sensor Glucose (mg/dL)']<70].groupby('Date')['Sensor Glucose (mg/dL)']\n",
    "Hyper1daytime_manual=Hyper1daytime_manual.count()/2.88\n",
    "\n",
    "Hyper1overnight_manual=overnightM.loc[overnightM['Sensor Glucose (mg/dL)']<70].groupby('Date')['Sensor Glucose (mg/dL)']\n",
    "Hyper1overnight_manual=Hyper1overnight_manual.count()/2.88\n",
    "# hypoglycemia level 1 in each type of time"
   ]
  },
  {
   "cell_type": "code",
   "execution_count": 11,
   "metadata": {},
   "outputs": [],
   "source": [
    "Hyper2wholeday_manual=wholedayM.loc[wholedayM['Sensor Glucose (mg/dL)']<54].groupby('Date')['Sensor Glucose (mg/dL)']\n",
    "Hyper2wholeday_manual=Hyper2wholeday_manual.count()/2.88\n",
    "\n",
    "Hyper2daytime_manual=daytimeM.loc[daytimeM['Sensor Glucose (mg/dL)']<54].groupby('Date')['Sensor Glucose (mg/dL)']\n",
    "Hyper2daytime_manual=Hyper2daytime_manual.count()/2.88\n",
    "\n",
    "Hyper2overnight_manual=overnightM.loc[overnightM['Sensor Glucose (mg/dL)']<54].groupby('Date')['Sensor Glucose (mg/dL)']\n",
    "Hyper2overnight_manual=Hyper2overnight_manual.count()/2.88\n",
    "# hypoglycemia level 2 in each type of time"
   ]
  },
  {
   "cell_type": "code",
   "execution_count": 12,
   "metadata": {},
   "outputs": [],
   "source": [
    "autoIndex=auto.set_index('dateTime')\n",
    "\n",
    "listA=autoIndex.groupby('Date')['Sensor Glucose (mg/dL)'].count().where(lambda x:x>0.8*288).dropna().index.tolist()\n",
    "\n",
    "autoIndex=autoIndex.loc[autoIndex['Date'].isin(listA)]\n",
    "#check if the data in a day have enough amount\n",
    "\n",
    "wholeday = autoIndex.between_time('0:00:00','23:59:59')\n",
    "\n",
    "daytime = autoIndex.between_time('6:00:00','23:59:59')\n",
    "\n",
    "overnight = autoIndex.between_time('0:00:00','05:59:59')\n",
    "#spilt the data into each type"
   ]
  },
  {
   "cell_type": "code",
   "execution_count": 13,
   "metadata": {},
   "outputs": [],
   "source": [
    "Hyperwholeday_automode=wholeday.loc[wholeday['Sensor Glucose (mg/dL)']>180].groupby('Date')['Sensor Glucose (mg/dL)']\n",
    "Hyperwholeday_automode=Hyperwholeday_automode.count()/2.88\n",
    "\n",
    "Hyperdaytime_automode=daytime.loc[daytime['Sensor Glucose (mg/dL)']>180].groupby('Date')['Sensor Glucose (mg/dL)']\n",
    "Hyperdaytime_automode=Hyperdaytime_automode.count()/2.88\n",
    "\n",
    "Hyperovernight_automode=overnight.loc[overnight['Sensor Glucose (mg/dL)']>180].groupby('Date')['Sensor Glucose (mg/dL)']\n",
    "Hyperovernight_automode=Hyperovernight_automode.count()/2.88\n",
    "# Hyperglycemia in each type of time"
   ]
  },
  {
   "cell_type": "code",
   "execution_count": 14,
   "metadata": {},
   "outputs": [],
   "source": [
    "HyperCwholeday_automode=wholeday.loc[wholeday['Sensor Glucose (mg/dL)']>250].groupby('Date')['Sensor Glucose (mg/dL)']\n",
    "HyperCwholeday_automode=HyperCwholeday_automode.count()/2.88\n",
    "\n",
    "HyperCdaytime_automode=daytime.loc[daytime['Sensor Glucose (mg/dL)']>250].groupby('Date')['Sensor Glucose (mg/dL)']\n",
    "HyperCdaytime_automode=HyperCdaytime_automode.count()/2.88\n",
    "\n",
    "HyperCovernight_automode=overnight.loc[overnight['Sensor Glucose (mg/dL)']>250].groupby('Date')['Sensor Glucose (mg/dL)']\n",
    "HyperCovernight_automode=HyperCovernight_automode.count()/2.88\n",
    "# Hyperglycemia in each type of time"
   ]
  },
  {
   "cell_type": "code",
   "execution_count": 15,
   "metadata": {},
   "outputs": [],
   "source": [
    "rangewholeday_automode=wholeday.loc[(wholeday['Sensor Glucose (mg/dL)']>=70) & (wholeday['Sensor Glucose (mg/dL)']<=180)].groupby('Date')['Sensor Glucose (mg/dL)']\n",
    "rangewholeday_automode=rangewholeday_automode.count()/2.88\n",
    "\n",
    "rangedaytime_automode=daytime.loc[(daytime['Sensor Glucose (mg/dL)']>=70) & (daytime['Sensor Glucose (mg/dL)']<=180)].groupby('Date')['Sensor Glucose (mg/dL)']\n",
    "rangedaytime_automode=rangedaytime_automode.count()/2.88\n",
    "\n",
    "rangeovernight_automode=overnight.loc[(overnight['Sensor Glucose (mg/dL)']>=70) & (overnight['Sensor Glucose (mg/dL)']<=180)].groupby('Date')['Sensor Glucose (mg/dL)']\n",
    "rangeovernight_automode=rangeovernight_automode.count()/2.88\n",
    "# range in each type of time"
   ]
  },
  {
   "cell_type": "code",
   "execution_count": 16,
   "metadata": {},
   "outputs": [],
   "source": [
    "range2wholeday_automode=wholeday.loc[(wholeday['Sensor Glucose (mg/dL)']>=70) & (wholeday['Sensor Glucose (mg/dL)']<=150)].groupby('Date')['Sensor Glucose (mg/dL)']\n",
    "range2wholeday_automode=range2wholeday_automode.count()/2.88\n",
    "\n",
    "range2daytime_automode=daytime.loc[(daytime['Sensor Glucose (mg/dL)']>=70) & (daytime['Sensor Glucose (mg/dL)']<=150)].groupby('Date')['Sensor Glucose (mg/dL)']\n",
    "range2daytime_automode=range2daytime_automode.count()/2.88\n",
    "\n",
    "range2overnight_automode=overnight.loc[(overnight['Sensor Glucose (mg/dL)']>=70) & (overnight['Sensor Glucose (mg/dL)']<=150)].groupby('Date')['Sensor Glucose (mg/dL)']\n",
    "range2overnight_automode=range2overnight_automode.count()/2.88\n",
    "# range secondary in each type of time"
   ]
  },
  {
   "cell_type": "code",
   "execution_count": 17,
   "metadata": {},
   "outputs": [],
   "source": [
    "Hyper1wholeday_automode=wholeday.loc[wholeday['Sensor Glucose (mg/dL)']<70].groupby('Date')['Sensor Glucose (mg/dL)']\n",
    "Hyper1wholeday_automode=Hyper1wholeday_automode.count()/2.88\n",
    "\n",
    "Hyper1daytime_automode=daytime.loc[daytime['Sensor Glucose (mg/dL)']<70].groupby('Date')['Sensor Glucose (mg/dL)']\n",
    "Hyper1daytime_automode=Hyper1daytime_automode.count()/2.88\n",
    "\n",
    "Hyper1overnight_automode=overnight.loc[overnight['Sensor Glucose (mg/dL)']<70].groupby('Date')['Sensor Glucose (mg/dL)']\n",
    "Hyper1overnight_automode=Hyper1overnight_automode.count()/2.88\n",
    "# hypoglycemia level 1 in each type of time"
   ]
  },
  {
   "cell_type": "code",
   "execution_count": 18,
   "metadata": {},
   "outputs": [],
   "source": [
    "Hyper2wholeday_automode=wholeday.loc[wholeday['Sensor Glucose (mg/dL)']<54].groupby('Date')['Sensor Glucose (mg/dL)']\n",
    "Hyper2wholeday_automode=Hyper2wholeday_automode.count()/2.88\n",
    "\n",
    "Hyper2daytime_automode=daytime.loc[daytime['Sensor Glucose (mg/dL)']<54].groupby('Date')['Sensor Glucose (mg/dL)']\n",
    "Hyper2daytime_automode=Hyper2daytime_automode.count()/2.88\n",
    "\n",
    "Hyper2overnight_automode=overnight.loc[overnight['Sensor Glucose (mg/dL)']<54].groupby('Date')['Sensor Glucose (mg/dL)']\n",
    "Hyper2overnight_automode=Hyper2overnight_automode.count()/2.88\n",
    "# hypoglycemia level 2 in each type of time"
   ]
  },
  {
   "cell_type": "code",
   "execution_count": 19,
   "metadata": {},
   "outputs": [],
   "source": [
    "results_df = pd.DataFrame({'overnight_hyperglycemia_percentage':[ Hyperovernight_manual.mean(),Hyperovernight_automode.mean()],\n",
    "\n",
    "'overnight_hyperglycemia_critical_percentage':[ HyperCovernight_manual.mean(),HyperCovernight_automode.mean()],\n",
    "\n",
    "'overnight_range_percentage':[ rangeovernight_manual.mean(),rangeovernight_automode.mean()],\n",
    "\n",
    "'overnight_range_sec_percentage':[ range2overnight_manual.mean(),range2overnight_automode.mean()],\n",
    "\n",
    "'overnight_hypoglycemia_lv1_percentage':[ Hyper1overnight_manual.mean(),Hyper1overnight_automode.mean()],\n",
    "\n",
    "'overnight_hypoglycemia_lv2_percentage':[ Hyper2overnight_manual.mean(),Hyper2overnight_automode.mean()],\n",
    "\n",
    "'daytime_hyperglycemia_percentage':[ Hyperdaytime_manual.mean(),Hyperdaytime_automode.mean()],\n",
    "                           \n",
    "'daytime_hyperglycemia_critical_percentage':[ HyperCdaytime_manual.mean(),HyperCdaytime_automode.mean()],\n",
    "                           \n",
    "'daytime_range_percentage':[ rangedaytime_manual.mean(),rangedaytime_automode.mean()],\n",
    "                           \n",
    "'daytime_range_sec_percentage':[ range2daytime_manual.mean(),range2daytime_automode.mean()],\n",
    "                           \n",
    "'daytime_hypoglycemia_lv1_percentage':[ Hyper1daytime_manual.mean(),Hyper1daytime_automode.mean()],\n",
    "                           \n",
    "'daytime_hypoglycemia_lv2_percentage':[ Hyper2daytime_manual.mean(),Hyper2daytime_automode.mean()],\n",
    "                                             \n",
    "'wholeday_hyperglycemia_percentage':[ Hyperwholeday_manual.mean(),Hyperwholeday_automode.mean()],\n",
    "                           \n",
    "'wholeday_hyperglycemia_critical_percentage':[ HyperCwholeday_manual.mean(),HyperCwholeday_automode.mean()],\n",
    "                           \n",
    "'wholeday_range_percentage':[ rangewholeday_manual.mean(),rangewholeday_automode.mean()],\n",
    "                           \n",
    "'wholeday_range_sec_percentage':[ range2wholeday_manual.mean(),range2wholeday_automode.mean()],\n",
    "                           \n",
    "'wholeday_hypoglycemia_lv1_percentage':[ Hyper1wholeday_manual.mean(),Hyper1wholeday_automode.mean()],\n",
    "                          \n",
    "'wholeday_hypoglycemia_lv2_percentage':[ Hyper2wholeday_manual.mean(),Hyper2wholeday_automode.mean()]          \n",
    "},\n",
    "index=['manual_mode','auto_mode'])\n",
    "#put the result into list one By one"
   ]
  },
  {
   "cell_type": "code",
   "execution_count": 20,
   "metadata": {},
   "outputs": [],
   "source": [
    "results_df.to_csv('Results.csv',header=False,index=False)"
   ]
  },
  {
   "cell_type": "code",
   "execution_count": null,
   "metadata": {},
   "outputs": [],
   "source": []
  }
 ],
 "metadata": {
  "colab": {
   "provenance": []
  },
  "kernelspec": {
   "display_name": "Python 3",
   "language": "python",
   "name": "python3"
  },
  "language_info": {
   "codemirror_mode": {
    "name": "ipython",
    "version": 3
   },
   "file_extension": ".py",
   "mimetype": "text/x-python",
   "name": "python",
   "nbconvert_exporter": "python",
   "pygments_lexer": "ipython3",
   "version": "3.10.7"
  },
  "vscode": {
   "interpreter": {
    "hash": "fb4569285eef3a3450cb62085a5b1e0da4bce0af555edc33dcf29baf3acc1368"
   }
  }
 },
 "nbformat": 4,
 "nbformat_minor": 1
}
